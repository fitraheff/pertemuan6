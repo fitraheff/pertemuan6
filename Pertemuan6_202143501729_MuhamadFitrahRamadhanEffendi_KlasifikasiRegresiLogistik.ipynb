{
  "nbformat": 4,
  "nbformat_minor": 0,
  "metadata": {
    "colab": {
      "provenance": []
    },
    "kernelspec": {
      "name": "python3",
      "display_name": "Python 3"
    },
    "language_info": {
      "name": "python"
    }
  },
  "cells": [
    {
      "cell_type": "code",
      "execution_count": 1,
      "metadata": {
        "colab": {
          "base_uri": "https://localhost:8080/",
          "height": 628
        },
        "id": "QJkb-AFOGbEg",
        "outputId": "1263d5c4-45ad-4f92-c737-e80b0f933a3b"
      },
      "outputs": [
        {
          "output_type": "stream",
          "name": "stdout",
          "text": [
            "Mounted at /content/drive\n",
            "[[-0.26000166 -0.17362339 -0.11955988  0.19735981]]\n",
            "Accuracy: 0.5714285714285714\n",
            "Precision (Male): 0.75\n",
            "Recall (Male): 0.6\n",
            "Precision (Female): 0.3333333333333333\n",
            "Recall (Female): 0.5\n"
          ]
        },
        {
          "output_type": "execute_result",
          "data": {
            "text/plain": [
              "['/content/drive/MyDrive/Colab Notebooks/logistic_regression_model.joblib']"
            ]
          },
          "metadata": {},
          "execution_count": 1
        },
        {
          "output_type": "display_data",
          "data": {
            "text/plain": [
              "<Figure size 640x480 with 2 Axes>"
            ],
            "image/png": "[encoded data removed]"
          },
          "metadata": {}
        }
      ],
      "source": [
        "import pandas as pd\n",
        "import numpy as np\n",
        "import matplotlib.pyplot as plt\n",
        "import seaborn as sns\n",
        "from sklearn.linear_model import LogisticRegression\n",
        "from sklearn.preprocessing import LabelEncoder\n",
        "from sklearn.preprocessing import StandardScaler\n",
        "from sklearn.model_selection import cross_val_score\n",
        "from sklearn.model_selection import train_test_split\n",
        "from sklearn import metrics\n",
        "from sklearn.metrics import confusion_matrix\n",
        "from google.colab import drive\n",
        "\n",
        "# Mount Google Drive\n",
        "drive.mount('/content/drive')\n",
        "\n",
        "# Path dataset di Google Drive\n",
        "dataset_path = '/content/drive/MyDrive/Colab Notebooks/TransformedDataSet.csv'\n",
        "\n",
        "# Membaca dataset\n",
        "df = pd.read_csv(dataset_path)\n",
        "\n",
        "# Deskripsi dataset\n",
        "df.describe()\n",
        "\n",
        "# Cek nilai null\n",
        "df.isnull().sum()\n",
        "\n",
        "# Memisahkan fitur dan target\n",
        "X = df.drop(['Gender'], axis=1)\n",
        "Y = df['Gender']\n",
        "\n",
        "# Membagi dataset menjadi data latih dan data uji\n",
        "X_train, X_test, Y_train, Y_test = train_test_split(X, Y, test_size=0.2, random_state=0)\n",
        "\n",
        "# Menggunakan LabelEncoder untuk mengubah kolom string menjadi numerik\n",
        "label_encoders = {}\n",
        "for column in X_train.columns:\n",
        "    le = LabelEncoder()\n",
        "    X_train[column] = le.fit_transform(X_train[column])\n",
        "    X_test[column] = le.transform(X_test[column])\n",
        "    label_encoders[column] = le\n",
        "\n",
        "# Membuat dan melatih model Regresi Logistik\n",
        "model = LogisticRegression()\n",
        "model.fit(X_train, Y_train)\n",
        "print(model.coef_)\n",
        "\n",
        "# Melakukan prediksi\n",
        "Y_pred = pd.Series(model.predict(X_test))\n",
        "Y_test = Y_test.reset_index(drop=True)\n",
        "z = pd.concat([Y_test, Y_pred], axis=1)\n",
        "z.columns = ['True', 'Prediction']\n",
        "z.head()\n",
        "\n",
        "# Evaluasi model\n",
        "print(\"Accuracy:\", metrics.accuracy_score(Y_test, Y_pred))\n",
        "print(\"Precision (Male):\", metrics.precision_score(Y_test, Y_pred, pos_label=\"M\"))\n",
        "print(\"Recall (Male):\", metrics.recall_score(Y_test, Y_pred, pos_label=\"M\"))\n",
        "print(\"Precision (Female):\", metrics.precision_score(Y_test, Y_pred, pos_label=\"F\"))\n",
        "print(\"Recall (Female):\", metrics.recall_score(Y_test, Y_pred, pos_label=\"F\"))\n",
        "\n",
        "# Confusion matrix\n",
        "cnf_matrix = metrics.confusion_matrix(Y_test, Y_pred)\n",
        "labels = [0, 1]\n",
        "fig, ax = plt.subplots()\n",
        "tick_marks = np.arange(len(labels))\n",
        "plt.xticks(tick_marks, labels)\n",
        "plt.yticks(tick_marks, labels)\n",
        "# Create heatmap\n",
        "sns.heatmap(pd.DataFrame(cnf_matrix), annot=True, cmap=\"YlGnBu\", fmt='g')\n",
        "ax.xaxis.set_label_position(\"top\")\n",
        "plt.title('Confusion Matrix', y=1.1)\n",
        "plt.ylabel('Predicted')\n",
        "plt.xlabel('True')\n",
        "\n",
        "from joblib import dump\n",
        "model_path = '/content/drive/MyDrive/Colab Notebooks/logistic_regression_model.joblib'\n",
        "dump(model, model_path)"
      ]
    }
  ]
}